{
 "cells": [
  {
   "cell_type": "markdown",
   "metadata": {},
   "source": [
    "Dropout statistics data analyis\n",
    "=====\n",
    "This notebook summarizes the efforts made in the analysis of statistical dropout data for the standard 4130cu. in. array with Bolt LLXT guns. Other arrays or dropout rules may easily be analyzed by saving this Jupyter Notebook with a new name and feed in the raw statistics (dan) files for the relavant source. Dropout rules are specified in this notebook under the Heading called Dropout Rule."
   ]
  },
  {
   "cell_type": "markdown",
   "metadata": {},
   "source": [
    "## Motivation\n",
    "Dropout specs and modeling has been a topic for discussion for years:\n",
    "The tolerance specs are sharp, resulting in a red or green box in a dropout matrix, but the matrix is based on a set of assumptions that are quite inaccurate.\n",
    "\n",
    "<li>Source modeling code and calibration: old vs new matters</li>\n",
    "\n",
    "<li>Temperature sensitivity</li>\n",
    "\n",
    "<li>We are assuming a static and 100% correctly deployed source.</li>\n",
    "\n",
    "<li>Dropouts are done on vertical farfields, even if relevant farfields are mostly non-vertical</li>\n",
    "\n",
    "<li>Origin of specs (operational more than geophysical, “nice round numbers”).</li>\n",
    "\n",
    "<li>Etc.</li>\n",
    "\n",
    "Reshoots due to dropouts are costly. A revision is in line with a streamlining/cost-cutting philosophy\n",
    "There is no guarantee that a reshoot results in improved data quality\n",
    "Current practice of bespoke dropout matrix per project is error prone and resource demanding. And triggers discussion if new modeling should be used to allow for more dropped guns.\n",
    "\n",
    "Shot-to-shot designature: Some possibility to correct for a range of bad shots."
   ]
  },
  {
   "cell_type": "markdown",
   "metadata": {},
   "source": [
    "Include perl script"
   ]
  },
  {
   "cell_type": "code",
   "execution_count": null,
   "metadata": {},
   "outputs": [],
   "source": [
    "nucver = \"280\"\n",
    "sourceconf = \"4135\"\n",
    "guntype = \"H\""
   ]
  },
  {
   "cell_type": "markdown",
   "metadata": {},
   "source": [
    "\n"
   ]
  },
  {
   "cell_type": "markdown",
   "metadata": {},
   "source": [
    "# Importing modules for plotting"
   ]
  },
  {
   "cell_type": "code",
   "execution_count": null,
   "metadata": {},
   "outputs": [],
   "source": [
    "import pandas as pd\n",
    "from matplotlib import pyplot as plt\n",
    "import seaborn as sns\n",
    "import warnings\n",
    "warnings.simplefilter(action='ignore', category=FutureWarning)"
   ]
  },
  {
   "cell_type": "markdown",
   "metadata": {},
   "source": [
    "## Setting some parameters for reading the input\n"
   ]
  },
  {
   "cell_type": "markdown",
   "metadata": {},
   "source": [
    "Below, the header of two dan-files (broadband and conventional/cross-correlation) are listed to confirm the modeling parameters used in Nucleus. First specify the path to the dan files for the dataset to analyze:"
   ]
  },
  {
   "cell_type": "code",
   "execution_count": null,
   "metadata": {},
   "outputs": [],
   "source": [
    "#path = \"./release_280/batch_4135/\"\n",
    "path = \"./release_\" + nucver + \"/batch_\" + sourceconfig+ \"/\""
   ]
  },
  {
   "cell_type": "code",
   "execution_count": null,
   "metadata": {
    "scrolled": true
   },
   "outputs": [],
   "source": [
    "file = \"4135H__040_2000_080_5.dan\"\n",
    "f = open(path + \"bb_\" + file)\n",
    "lines = f.read().splitlines()\n",
    "f.close()\n",
    "for i, line in enumerate(lines):\n",
    "    if i < 56:\n",
    "        print(i, line)\n"
   ]
  },
  {
   "cell_type": "code",
   "execution_count": null,
   "metadata": {},
   "outputs": [],
   "source": [
    "file = \"4135H__040_2000_080_5.dan\"\n",
    "f = open(path + \"cc_\" + file)\n",
    "lines = f.read().splitlines()\n",
    "f.close()\n",
    "for i, line in enumerate(lines):\n",
    "    if i < 56:\n",
    "        print(i, line)\n"
   ]
  },
  {
   "cell_type": "markdown",
   "metadata": {},
   "source": [
    "Setting the numbers of lines to skip. This is for the 4130 array."
   ]
  },
  {
   "cell_type": "code",
   "execution_count": null,
   "metadata": {},
   "outputs": [],
   "source": [
    "#bb statistics\n",
    "onegunskip = 43\n",
    "twogunskip = 74\n",
    "spareskip = 539\n",
    "eof = 557\n",
    "\n",
    "#conventional statistics\n",
    "onegunskipcc = 55\n",
    "twogunskipcc = 86\n",
    "spareskipcc = 551\n",
    "eofcc = 569\n",
    "\n",
    "arrayvol = '4135H'\n",
    "arraydepth = [4, 5, 6, 7, 8, 9]\n",
    "subsep = [8, 10]\n",
    "temp = [5, 10, 15, 20, 25]\n",
    "prefix = ['bb', 'cc']"
   ]
  },
  {
   "cell_type": "markdown",
   "metadata": {},
   "source": [
    "Setting file name"
   ]
  },
  {
   "cell_type": "code",
   "execution_count": null,
   "metadata": {},
   "outputs": [],
   "source": [
    "filenames = []\n",
    "\n",
    "for a in arraydepth:\n",
    "\tfor s in subsep:\n",
    "\t\tfor t in temp:\n",
    "\t\t\tif s < 10: \n",
    "\t\t\t\tfilenames.append(arrayvol + '__0' + str(a) + '0_2000_0' + str(s) + '0_' + str(t) + '.dan')\n",
    "\t\t\telse:\n",
    "\t\t\t\tfilenames.append(arrayvol + '__0' + str(a) + '0_2000_' + str(s) + '0_' + str(t) + '.dan')"
   ]
  },
  {
   "cell_type": "markdown",
   "metadata": {},
   "source": [
    "Just checking the file names:"
   ]
  },
  {
   "cell_type": "code",
   "execution_count": null,
   "metadata": {
    "scrolled": true
   },
   "outputs": [],
   "source": [
    "count = 0\n",
    "for filename in filenames:\n",
    "    if count < 10:\n",
    "        print(filename)\n",
    "    count += 1\n",
    "print(len(filenames))"
   ]
  },
  {
   "cell_type": "markdown",
   "metadata": {},
   "source": [
    "## Modeling Parameters\n",
    "This report analyse statistical values of the following dropout scenarios:\n",
    "<li>Temperatures: 5, 10, 15, 20, 25</li>\n",
    "<li>Depths 4-9m; 1m increment</li>\n",
    "<li>Subarray separation: 8 and 10m</li>\n",
    "<li>Bolt and GII guns</li>\n",
    "<li>Broadband (refl coeff zero) and conventional (refl coeff -1)</li>\n",
    "Total: 123 360 combinations\n",
    "<li>60 source/temperature combinations</li>\n",
    "<li>2 modelings per source (broadband and conv)</li>\n",
    "<li>2 gun types</li>\n",
    "<li>All single and two gun dropouts with spare gun substitution</li>\n",
    "<li>514 dropout combinations per source (nominal source always used as reference)</li>\n",
    "\n",
    "The datasets are analyzed separately for Gun type to detect systematic differences.\n"
   ]
  },
  {
   "cell_type": "markdown",
   "metadata": {},
   "source": [
    "Defining the column names:"
   ]
  },
  {
   "cell_type": "code",
   "execution_count": null,
   "metadata": {},
   "outputs": [],
   "source": [
    "columns_one_gun_bb_raw = ['droparray1', 'dropgun1', 'gunvolume1', 'AvgdB', 'MaxdB', 'MaxPhase']\n",
    "columns_two_gun_bb_raw = ['droparray1', 'dropgun1', 'droparray2', 'dropgun2', 'gunvolume1', 'gunvolume2', 'AvgdB', 'MaxdB', 'MaxPhase']\n",
    "columns_spare_gun_bb_raw = ['droparray1', 'dropgun1', 'droparray2', 'dropgun2', 'gunvolume1', 'gunvolume2', 'AvgdB', 'MaxdB', 'MaxPhase']\t\n",
    "columns_one_gun_cc_raw = ['droparray1', 'dropgun1', 'gunvolume1', 'Peak', 'Peakch','PtoB','PtoBch', 'x-corr', 'AvgdB', 'MaxdB']\n",
    "columns_two_gun_cc_raw = ['droparray1', 'dropgun1', 'droparray2', 'dropgun2', 'gunvolume1', 'gunvolume2', 'Peak', 'Peakch', 'PtoB', 'PtoBch', 'x-corr', 'AvgdB', 'MaxdB']\n",
    "columns_spare_gun_cc_raw = ['droparray1', 'dropgun1', 'droparray2', 'dropgun2', 'gunvolume1', 'gunvolume2', 'Peak', 'Peakch', 'PtoB', 'PtoBch', 'x-corr', 'AvgdB', 'MaxdB']"
   ]
  },
  {
   "cell_type": "markdown",
   "metadata": {},
   "source": [
    "Statistical data defined as panda dataframes:"
   ]
  },
  {
   "cell_type": "code",
   "execution_count": null,
   "metadata": {},
   "outputs": [],
   "source": [
    "stat_one_gun_bb_raw = pd.DataFrame()\n",
    "stat_two_gun_bb_raw = pd.DataFrame()\n",
    "stat_spare_gun_bb_raw = pd.DataFrame()\n",
    "stat_one_gun_cc_raw = pd.DataFrame()\n",
    "stat_two_gun_cc_raw = pd.DataFrame()\n",
    "stat_spare_gun_cc_raw = pd.DataFrame()"
   ]
  },
  {
   "cell_type": "markdown",
   "metadata": {},
   "source": [
    "Reading data from files into dataframes:"
   ]
  },
  {
   "cell_type": "code",
   "execution_count": null,
   "metadata": {},
   "outputs": [],
   "source": [
    "\n",
    "for filename in filenames:\n",
    "    temp_stat_one_gun_bb_raw = pd.read_csv(path + 'bb_' + filename, names=columns_one_gun_bb_raw, skiprows=onegunskip, delim_whitespace=True, nrows=twogunskip-onegunskip)\n",
    "    temp_stat_one_gun_bb_raw['filename'] = filename\n",
    "    temp_stat_one_gun_bb_raw['Depth'] = int(filename[7:10])\n",
    "    temp_stat_one_gun_bb_raw['Subsep'] = int(filename[16:19])\n",
    "    temp_stat_one_gun_bb_raw['Temperature'] = int(filename[20:22].replace('.',''))\n",
    "    stat_one_gun_bb_raw = stat_one_gun_bb_raw.append(temp_stat_one_gun_bb_raw)\n",
    "    temp_stat_one_gun_bb_raw = []\n",
    "    \n",
    "    temp_stat_two_gun_bb_raw = pd.read_csv(path + 'bb_' + filename, names=columns_two_gun_bb_raw, skiprows=twogunskip, delim_whitespace=True, nrows=spareskip-twogunskip)\n",
    "    temp_stat_two_gun_bb_raw['filename'] = filename\n",
    "    temp_stat_two_gun_bb_raw['Depth'] = int(filename[7:10])\n",
    "    temp_stat_two_gun_bb_raw['Subsep'] = int(filename[16:19])\n",
    "    temp_stat_two_gun_bb_raw['Temperature'] = int(filename[20:22].replace('.',''))\n",
    "    stat_two_gun_bb_raw = stat_two_gun_bb_raw.append(temp_stat_two_gun_bb_raw)\n",
    "    temp_stat_two_gun_bb_raw = []\n",
    "    \n",
    "    temp_stat_spare_gun_bb_raw = pd.read_csv(path + 'bb_' + filename, names=columns_spare_gun_bb_raw, skiprows=spareskip, delim_whitespace=True, nrows=eof-spareskip)\n",
    "    temp_stat_spare_gun_bb_raw['filename'] = filename\n",
    "    temp_stat_spare_gun_bb_raw['Depth'] = int(filename[7:10])\n",
    "    temp_stat_spare_gun_bb_raw['Subsep'] = int(filename[16:19])\n",
    "    temp_stat_spare_gun_bb_raw['Temperature'] = int(filename[20:22].replace('.',''))\n",
    "    stat_spare_gun_bb_raw = stat_spare_gun_bb_raw.append(temp_stat_spare_gun_bb_raw)\n",
    "    temp_stat_spare_gun_bb_raw = []\n",
    "    \n",
    "    temp_stat_one_gun_cc_raw = pd.read_csv(path + 'cc_' + filename, names=columns_one_gun_cc_raw, skiprows=onegunskipcc, delim_whitespace=True, nrows=twogunskipcc-onegunskipcc)\n",
    "    temp_stat_one_gun_cc_raw['filename'] = filename\n",
    "    temp_stat_one_gun_cc_raw['Depth'] = int(filename[7:10])\n",
    "    temp_stat_one_gun_cc_raw['Subsep'] = int(filename[16:19])\n",
    "    temp_stat_one_gun_cc_raw['Temperature'] = int(filename[20:22].replace('.',''))\n",
    "    stat_one_gun_cc_raw = stat_one_gun_cc_raw.append(temp_stat_one_gun_cc_raw)\n",
    "    temp_stat_one_gun_cc_raw = []\n",
    "    \n",
    "    temp_stat_two_gun_cc_raw = pd.read_csv(path + 'cc_' + filename, names=columns_two_gun_cc_raw, skiprows=twogunskipcc, delim_whitespace=True, nrows=spareskipcc-twogunskipcc)\n",
    "    temp_stat_two_gun_cc_raw['filename'] = filename\n",
    "    temp_stat_two_gun_cc_raw['Depth'] = int(filename[7:10])\n",
    "    temp_stat_two_gun_cc_raw['Subsep'] = int(filename[16:19])\n",
    "    temp_stat_two_gun_cc_raw['Temperature'] = int(filename[20:22].replace('.',''))\n",
    "    stat_two_gun_cc_raw = stat_two_gun_cc_raw.append(temp_stat_two_gun_cc_raw)\n",
    "    temp_stat_two_gun_cc_raw = []\n",
    "    \n",
    "    temp_stat_spare_gun_cc_raw = pd.read_csv(path + 'cc_' + filename, names=columns_spare_gun_cc_raw, skiprows=spareskipcc, delim_whitespace=True, nrows=eofcc-spareskipcc)\n",
    "    temp_stat_spare_gun_cc_raw['filename'] = filename\n",
    "    temp_stat_spare_gun_cc_raw['Depth'] = int(filename[7:10])\n",
    "    temp_stat_spare_gun_cc_raw['Subsep'] = int(filename[16:19])\n",
    "    temp_stat_spare_gun_cc_raw['Temperature'] = int(filename[20:22].replace('.',''))\n",
    "    stat_spare_gun_cc_raw = stat_spare_gun_cc_raw.append(temp_stat_spare_gun_cc_raw)\n",
    "    temp_stat_spare_gun_cc_raw = []"
   ]
  },
  {
   "cell_type": "markdown",
   "metadata": {},
   "source": [
    "The follwing is a lambda function that converts to string and adds zeros to a total length of 2 characters to the input x (which could be an int). Is later used to convert all gun numbers from int to string. (3 to \"03\", for example)"
   ]
  },
  {
   "cell_type": "code",
   "execution_count": null,
   "metadata": {},
   "outputs": [],
   "source": [
    "add_zero = lambda x: str(int(x)).zfill(2)"
   ]
  },
  {
   "cell_type": "markdown",
   "metadata": {},
   "source": [
    "Adding all the string representations for gun numbering in a dedicated set of columns. Is later used to make array_gun_number index with a logical order. "
   ]
  },
  {
   "cell_type": "code",
   "execution_count": null,
   "metadata": {},
   "outputs": [],
   "source": [
    "stat_one_gun_bb_raw['dropgun1_str'] = stat_one_gun_bb_raw['dropgun1'].apply(add_zero)\n",
    "stat_two_gun_bb_raw['dropgun1_str'] = stat_two_gun_bb_raw['dropgun1'].apply(add_zero)\n",
    "stat_two_gun_bb_raw['dropgun2_str'] = stat_two_gun_bb_raw['dropgun2'].apply(add_zero)\n",
    "stat_spare_gun_bb_raw['dropgun1_str'] = stat_spare_gun_bb_raw['dropgun1'].apply(add_zero)\n",
    "stat_spare_gun_bb_raw['dropgun2_str'] = stat_spare_gun_bb_raw['dropgun2'].apply(add_zero)\n",
    "stat_one_gun_cc_raw['dropgun1_str'] = stat_one_gun_cc_raw['dropgun1'].apply(add_zero)\n",
    "stat_two_gun_cc_raw['dropgun1_str'] = stat_two_gun_cc_raw['dropgun1'].apply(add_zero)\n",
    "stat_two_gun_cc_raw['dropgun2_str'] = stat_two_gun_cc_raw['dropgun2'].apply(add_zero)\n",
    "stat_spare_gun_cc_raw['dropgun1_str'] = stat_spare_gun_bb_raw['dropgun1'].apply(add_zero)\n",
    "stat_spare_gun_cc_raw['dropgun2_str'] = stat_spare_gun_bb_raw['dropgun2'].apply(add_zero)"
   ]
  },
  {
   "cell_type": "code",
   "execution_count": null,
   "metadata": {},
   "outputs": [],
   "source": [
    "stat_one_gun_cc_raw['Bubble'] = stat_one_gun_cc_raw.apply(lambda row: row.Peak / row.PtoB, axis=1)\n",
    "stat_two_gun_cc_raw['Bubble'] = stat_two_gun_cc_raw.apply(lambda row: row.Peak / row.PtoB, axis=1)\n",
    "stat_spare_gun_cc_raw['Bubble'] = stat_spare_gun_cc_raw.apply(lambda row: row.Peak / row.PtoB, axis=1)"
   ]
  },
  {
   "cell_type": "markdown",
   "metadata": {},
   "source": [
    "Printing some statistics to check that dataframes are ok (Remove hash for what you want to print)"
   ]
  },
  {
   "cell_type": "code",
   "execution_count": null,
   "metadata": {
    "scrolled": true
   },
   "outputs": [],
   "source": [
    "#print('stat_one_gun_bb_raw: ')\n",
    "#print(stat_one_gun_bb_raw.head())\n",
    "#print(stat_one_gun_bb_raw.head())\n",
    "#print(stat_one_gun_bb_raw.tail())\n",
    "#print(stat_one_gun_cc_raw)\n",
    "#print(stat_two_gun_bb_raw.info())\n",
    "#print('stat_spare_gun')\n",
    "\n",
    "#print(stat_one_gun_cc_raw.head())\n",
    "print(stat_one_gun_cc_raw.tail())\n",
    "#print('stat_two_gun_cc_raw: ')\n",
    "#print(stat_two_gun_cc_raw.head())\n",
    "#print(stat_two_gun_cc_raw.info())\n",
    "# print('stat_spare_gun_cc_raw')\n",
    "#print(stat_spare_gun_cc_raw.tail())\n",
    "# print(stat_spare_gun_cc_raw.info())\n",
    "#print(len(stat_one_gun_bb_raw), len(stat_two_gun_bb_raw), len(stat_spare_gun_bb_raw))\n",
    "#print(len(stat_one_gun_cc_raw), len(stat_two_gun_cc_raw), len(stat_spare_gun_cc_raw))"
   ]
  },
  {
   "cell_type": "markdown",
   "metadata": {},
   "source": [
    "Next step is to copy dataframes to identical copy with \"all\" postfix. Then later, the mastermatrix filter will be applied to the original dataframes. The \"all\" dataframes will contain the unfiltered data material."
   ]
  },
  {
   "cell_type": "code",
   "execution_count": null,
   "metadata": {},
   "outputs": [],
   "source": [
    "stat_one_gun_bb_legal = stat_one_gun_bb_raw\n",
    "stat_two_gun_bb_legal = stat_two_gun_bb_raw\n",
    "stat_spare_gun_bb_legal = stat_spare_gun_bb_raw\n",
    "stat_one_gun_cc_legal = stat_one_gun_cc_raw\n",
    "stat_two_gun_cc_legal = stat_two_gun_cc_raw\n",
    "stat_spare_gun_cc_legal = stat_spare_gun_cc_raw"
   ]
  },
  {
   "cell_type": "markdown",
   "metadata": {},
   "source": [
    "## Dropout Rule\n",
    "Master Matrix suggestion:\n",
    "<li>Illegal dropouts are defined by operationally suitable gun combinations and not by “geophysical” specs:</li>\n",
    "\n",
    "<li>All substitutions allowed</li>\n",
    "\n",
    "<li>Same rule applied regardless of depth, gun type, subarray separation, temperature.</li>\n",
    "\n",
    "<li>We probably have to live with some outliers (keep shooting in some of the red boxes). This notebook investigates the impact on a statistical level.</li>\n",
    "\n",
    "The goal for the new dropout rule is:\n",
    "<b>“No single gun dropout is a show- stopper. All failing big guns in clusters may be substituted”</b>"
   ]
  },
  {
   "cell_type": "markdown",
   "metadata": {},
   "source": [
    "### Master Matrix definition and filtering of dataset\n",
    "Here comes the master matrix definition and filtering:"
   ]
  },
  {
   "cell_type": "code",
   "execution_count": null,
   "metadata": {},
   "outputs": [],
   "source": [
    "illegal_one_gun = [[1, 1], \n",
    "                   [1, 2],\n",
    "                   [1, 10], #Single 100 may be substituted\n",
    "\t\t\t\t   [1, 13],\n",
    "\t\t\t\t   [1, 14],\n",
    "                   [2, 1], # 100c may be substituted\n",
    "                   [2, 2], # 100C may be substituted\n",
    "                   [2, 9], # Single 100 may be substituted\n",
    "                   [2, 11],\n",
    "                   [2, 12],\n",
    "                   [2, 13], # Singel 250 may be substituted\n",
    "\t\t\t\t   [3, 1],\n",
    "\t\t\t\t   [3, 2], \n",
    "                   [3, 3], # single 150 may be substituted\n",
    "                   [3, 11], \n",
    "\t\t\t\t   [3, 12],\n",
    "\t\t\t\t   [3, 13],\n",
    "\t\t\t\t   [3, 14]]\n",
    "for i in range(len(illegal_one_gun)):\n",
    "\tstat_one_gun_bb_legal = stat_one_gun_bb_legal.drop(stat_one_gun_bb_legal[(stat_one_gun_bb_legal.droparray1 == illegal_one_gun[i][0]) & (stat_one_gun_bb_legal.dropgun1 == illegal_one_gun[i][1])].index, axis=1)\n",
    "\tstat_one_gun_cc_legal = stat_one_gun_cc_legal.drop(stat_one_gun_cc_legal[(stat_one_gun_cc_legal.droparray1 == illegal_one_gun[i][0]) & (stat_one_gun_cc_legal.dropgun1 == illegal_one_gun[i][1])].index, axis=1)\n",
    "\n",
    "#Below it is assumed that any two gun combination with illegal one gun is also illegal.\n",
    "\n",
    "for i in range(len(illegal_one_gun)):\n",
    "\tstat_two_gun_bb_legal = stat_two_gun_bb_legal.drop(stat_two_gun_bb_legal[(stat_two_gun_bb_legal.droparray1 == illegal_one_gun[i][0]) & (stat_two_gun_bb_legal.dropgun1 == illegal_one_gun[i][1]) | (stat_two_gun_bb_legal.droparray2 == illegal_one_gun[i][0]) & (stat_two_gun_bb_legal.dropgun2 == illegal_one_gun[i][1])].index, axis=0)\n",
    "\tstat_two_gun_cc_legal = stat_two_gun_cc_legal.drop(stat_two_gun_cc_legal[(stat_two_gun_cc_legal.droparray1 == illegal_one_gun[i][0]) & (stat_two_gun_cc_legal.dropgun1 == illegal_one_gun[i][1]) | (stat_two_gun_cc_legal.droparray2 == illegal_one_gun[i][0]) & (stat_two_gun_cc_legal.dropgun2 == illegal_one_gun[i][1])].index, axis=0)"
   ]
  },
  {
   "cell_type": "code",
   "execution_count": null,
   "metadata": {
    "scrolled": true
   },
   "outputs": [],
   "source": [
    "print(\"Number of combinations for all(raw) combinations (one gun, two gun and spare)\")\n",
    "print(len(stat_one_gun_bb_raw), len(stat_two_gun_bb_raw), len(stat_spare_gun_bb_raw))\n",
    "print(len(stat_one_gun_cc_raw), len(stat_two_gun_cc_raw), len(stat_spare_gun_cc_raw))\n",
    "print(\"Number of combinations for legal combinations (one gun, two gun and spare)\")\n",
    "print(len(stat_one_gun_bb_legal), len(stat_two_gun_bb_legal), len(stat_spare_gun_bb_legal))\n",
    "print(len(stat_one_gun_cc_legal), len(stat_two_gun_cc_legal), len(stat_spare_gun_cc_legal))"
   ]
  },
  {
   "cell_type": "markdown",
   "metadata": {},
   "source": [
    "Here comes the functions that do the matplotlib plots:"
   ]
  },
  {
   "cell_type": "code",
   "execution_count": null,
   "metadata": {},
   "outputs": [],
   "source": [
    "def figplot(figno, dataset_bb_all, dataset_bb, dataset_cc_all, dataset_cc, figtitle, filename):\n",
    "\tplt.figure(figno, figsize=(16, 12))\n",
    "\tplt.suptitle(figtitle, fontsize=16)\n",
    "\tplt.subplot(321)\n",
    "\tplt.hist(dataset_bb_all['MaxPhase'], bins=40, range=(0, 40), alpha=0.4, label='all')\n",
    "\t#plt.hist(dataset_bb['MaxPhase'], bins=40, range=(0, 40), alpha=0.4, label='legal')\n",
    "\tplt.axvline(x=20)\n",
    "\tplt.legend()\n",
    "\tplt.title('MaxPhase')\n",
    "\n",
    "\tplt.subplot(323)\n",
    "\tplt.hist(dataset_bb_all['MaxdB'], bins=30, range=(0, 6), alpha=0.4, label='all')\n",
    "\t#plt.hist(dataset_bb['MaxdB'], bins=30, range=(0, 6), alpha=0.4, label='legal')\n",
    "\tplt.axvline(x=3)\n",
    "\tplt.legend()\n",
    "\tplt.title('MaxdB')\n",
    "\n",
    "\tplt.subplot(325)\n",
    "\tplt.hist(dataset_bb_all['AvgdB'], bins=40, range=(0, 1), alpha=0.4, label='all')\n",
    "\t#plt.hist(dataset_bb['AvgdB'], bins=40, range=(0, 1), alpha=0.4, label='legal')\n",
    "\tplt.axvline(x=0.85)\n",
    "\tplt.legend()\n",
    "\tplt.title('AvgdB')\n",
    "\n",
    "\tplt.subplot(322)\n",
    "\tplt.hist(dataset_cc_all['x-corr'], bins=40, range=(0.99, 1), alpha=0.4, label='all')\n",
    "\t#plt.hist(dataset_cc['x-corr'], bins=40, range=(0.99, 1), alpha=0.4, label='legal')\n",
    "\tplt.axvline(x=0.998)\n",
    "\tplt.legend()\n",
    "\tplt.title('X-corr')\n",
    "\n",
    "\tplt.subplot(324)\n",
    "\tplt.hist(dataset_cc_all['Peakch'], bins=24, range=(-10, 2), alpha=0.4, label='all')\n",
    "\t#plt.hist(dataset_cc['Peakch'], bins=24, range=(-10, 2), alpha=0.4, label='legal')\n",
    "\tplt.axvline(x=-10)\n",
    "\tplt.legend()\n",
    "\tplt.title('Peakch %')\n",
    "\n",
    "\tplt.subplot(326)\n",
    "\tplt.hist(dataset_cc_all['PtoBch'], bins=25, range=(-40, 10), alpha=0.4, label='all')\n",
    "\t#plt.hist(dataset_cc['PtoBch'], bins=25, range=(-40, 10), alpha=0.4, label='legal')\n",
    "\tplt.axvline(x=-10)\n",
    "\tplt.axvline(x=-15)\n",
    "\tplt.legend()\n",
    "\tplt.title('PtoBch %')\n",
    "\tplt.savefig(filename)\n",
    "\tplt.show()\n"
   ]
  },
  {
   "cell_type": "markdown",
   "metadata": {},
   "source": [
    "First plot is of all two gun dropouts"
   ]
  },
  {
   "cell_type": "code",
   "execution_count": null,
   "metadata": {},
   "outputs": [],
   "source": [
    "def figplot_peak_bubble(figno, dataset_cc_all, dataset_cc, figtitle, filename):\n",
    "\tplt.figure(figno, figsize=(16, 12))\n",
    "\tplt.suptitle(figtitle, fontsize=16)\n",
    "\tplt.subplot(221)\n",
    "\tplt.hist(dataset_cc_all['Peak'], bins=40, range=(50, 90), alpha=0.4, label='all')\n",
    "\t#plt.hist(dataset_bb['MaxPhase'], bins=40, range=(0, 40), alpha=0.4, label='legal')\n",
    "\tplt.legend()\n",
    "\tplt.title('Peak')\n",
    "\n",
    "\tplt.subplot(222)\n",
    "\tplt.hist(dataset_cc_all['Bubble'], bins=30, range=(0, 6), alpha=0.4, label='all')\n",
    "\t#plt.hist(dataset_bb['MaxdB'], bins=30, range=(0, 6), alpha=0.4, label='legal')\n",
    "\tplt.legend()\n",
    "\tplt.title('Bubble')\n",
    "\n",
    "\tplt.subplot(223)\n",
    "\tplt.hist(dataset_cc_all['Peakch'], bins=24, range=(-10, 2), alpha=0.4, label='all')\n",
    "\t#plt.hist(dataset_bb['AvgdB'], bins=40, range=(0, 1), alpha=0.4, label='legal')\n",
    "\tplt.axvline(x=-10)\n",
    "\tplt.legend()\n",
    "\tplt.title('Peakch')\n",
    "\n",
    "\tplt.subplot(224)\n",
    "\tplt.hist(dataset_cc_all['PtoBch'], bins=25, range=(-40, 20), alpha=0.4, label='all')\n",
    "\t#plt.hist(dataset_cc['x-corr'], bins=40, range=(0.99, 1), alpha=0.4, label='legal')\n",
    "\tplt.axvline(x=-10)\n",
    "\tplt.legend()\n",
    "\tplt.title('PtoBch')"
   ]
  },
  {
   "cell_type": "code",
   "execution_count": null,
   "metadata": {},
   "outputs": [],
   "source": [
    "figplot_peak_bubble(2, stat_two_gun_cc_raw, stat_two_gun_cc_legal, 'Two Gun dropout statistics 4135H 2.8.0 k=2.0', '4135H_2gun_280_pb.png')\n",
    "        "
   ]
  },
  {
   "cell_type": "code",
   "execution_count": null,
   "metadata": {
    "scrolled": false
   },
   "outputs": [],
   "source": [
    "figplot(1, stat_two_gun_bb_raw, stat_two_gun_bb_legal, stat_two_gun_cc_raw, stat_two_gun_cc_legal, 'Two Gun dropout statistics 4135H 2.8.0 k=2.0', '4135H_2gun_280.png' )"
   ]
  },
  {
   "cell_type": "markdown",
   "metadata": {},
   "source": [
    "#### Above plot comments\n",
    "Typical tolerance specs are marked with vertical line for reference only.\n",
    "Note that orange dataset (master matrix “passed”)is a sub-selection of blue dataset (partly transparent makes the orange slightly brown)\n",
    "We observe that the master matrix drop out rule gets rid of most “bad” combinations, according to the current specs, but also some good ones that would be within the current specs.\n",
    "The number of legal combinations that are above current specs are few and quite marginal."
   ]
  },
  {
   "cell_type": "markdown",
   "metadata": {},
   "source": [
    "Second plot is for single gun dropouts:"
   ]
  },
  {
   "cell_type": "code",
   "execution_count": null,
   "metadata": {
    "scrolled": false
   },
   "outputs": [],
   "source": [
    "figplot(2, stat_one_gun_bb_raw, stat_one_gun_bb_legal, stat_one_gun_cc_raw, stat_one_gun_cc_legal, 'One Gun dropout statistics 4135H 2.8.0 k=2.0', '4135H_1gun_280.png')"
   ]
  },
  {
   "cell_type": "markdown",
   "metadata": {},
   "source": [
    "#### Above plot comments\n",
    "Single gun dropouts are a lot more likely than two gun dropouts.\n",
    "The Master Matrix rule is rejecting practically all bad combinations, according to traditional specs\n",
    "Note: Spares not enabled"
   ]
  },
  {
   "cell_type": "code",
   "execution_count": null,
   "metadata": {},
   "outputs": [],
   "source": [
    "figplot(3, stat_spare_gun_bb_raw, stat_spare_gun_bb_legal, stat_spare_gun_cc_raw, stat_spare_gun_cc_legal, 'Spare Gun dropout statistics 4135H 2.8.0 k=2.0', '4135H_spare_280.png')"
   ]
  },
  {
   "cell_type": "markdown",
   "metadata": {},
   "source": [
    "#### Above plot comments\n",
    "All spare substitutions allowed, so light blue bars are completely obscures by darker blue bars.\n",
    "We observe some substitutions that for some parameter combinations could be problematic."
   ]
  },
  {
   "cell_type": "markdown",
   "metadata": {},
   "source": [
    "For more in depth analysis and fancier plots (using Pyhton Seaborn module), we join the datasets. First, we'll strip off some columns before the join and add columns for Scenario (which can have the following values: \"One gun dropoout\", \"Two gun dropout\" and \"Spare substitution\") and for Status (which can have the following values: \"All\" or \"Legal\"). At the end, all the data are concatenated to a dataset (panda dataframe) called comb_data_bb (bb reflecting that this is the broadband dataset)"
   ]
  },
  {
   "cell_type": "code",
   "execution_count": null,
   "metadata": {
    "scrolled": false
   },
   "outputs": [],
   "source": [
    "strip_one_gun_bb_all = stat_one_gun_bb_raw.drop(columns=['filename'])\n",
    "strip_one_gun_bb_all['Scenario'] = \"One gun dropout\"\n",
    "strip_one_gun_bb_all['Status'] = \"All\"\n",
    "strip_one_gun_bb_legal = stat_one_gun_bb_legal.drop(columns=['filename'])\n",
    "strip_one_gun_bb_legal['Scenario'] = \"One gun dropout\"\n",
    "strip_one_gun_bb_legal['Status'] = \"Legal\"\n",
    "strip_two_gun_bb_all = stat_two_gun_bb_raw.drop(columns=['filename'])\n",
    "strip_two_gun_bb_all['Scenario'] = \"Two gun dropout\"\n",
    "strip_two_gun_bb_all['Status'] = \"All\"\n",
    "strip_two_gun_bb_legal = stat_two_gun_bb_legal.drop(columns=['filename'])\n",
    "strip_two_gun_bb_legal['Scenario'] = \"Two gun dropout\"\n",
    "strip_two_gun_bb_legal['Status'] = \"Legal\"\n",
    "strip_spare_gun_bb_all = stat_spare_gun_bb_raw.drop(columns=['filename'])\n",
    "strip_spare_gun_bb_all['Scenario'] = \"Spare substitution\"\n",
    "strip_spare_gun_bb_all['Status'] = \"All\"\n",
    "strip_spare_gun_bb_legal = stat_spare_gun_bb_legal.drop(columns=['filename'])\n",
    "strip_spare_gun_bb_legal['Scenario'] = \"Spare substitution\"\n",
    "strip_spare_gun_bb_legal['Status'] = \"Legal\"\n",
    "comb_data_bb = pd.concat([strip_one_gun_bb_all, strip_one_gun_bb_legal, strip_two_gun_bb_all, strip_two_gun_bb_legal, strip_spare_gun_bb_all, strip_spare_gun_bb_legal], ignore_index=True)"
   ]
  },
  {
   "cell_type": "code",
   "execution_count": null,
   "metadata": {},
   "outputs": [],
   "source": [
    "print(comb_data_bb.head())\n",
    "print(comb_data_bb.tail())"
   ]
  },
  {
   "cell_type": "markdown",
   "metadata": {},
   "source": [
    "Then we repeat the process for the cc data (cross-correlation)"
   ]
  },
  {
   "cell_type": "code",
   "execution_count": null,
   "metadata": {
    "scrolled": false
   },
   "outputs": [],
   "source": [
    "strip_one_gun_cc_all = stat_one_gun_cc_raw.drop(columns=['filename'])\n",
    "strip_one_gun_cc_all['Scenario'] = \"One gun dropout\"\n",
    "strip_one_gun_cc_all['Status'] = \"All\"\n",
    "strip_one_gun_cc_legal = stat_one_gun_cc_legal.drop(columns=['filename'])\n",
    "strip_one_gun_cc_legal['Scenario'] = \"One gun dropout\"\n",
    "strip_one_gun_cc_legal['Status'] = \"Legal\"\n",
    "strip_two_gun_cc_all = stat_two_gun_cc_raw.drop(columns=['filename'])\n",
    "strip_two_gun_cc_all['Scenario'] = \"Two gun dropout\"\n",
    "strip_two_gun_cc_all['Status'] = \"All\"\n",
    "strip_two_gun_cc_legal = stat_two_gun_cc_legal.drop(columns=['filename'])\n",
    "strip_two_gun_cc_legal['Scenario'] = \"Two gun dropout\"\n",
    "strip_two_gun_cc_legal['Status'] = \"Legal\"\n",
    "strip_spare_gun_cc_all = stat_spare_gun_cc_raw.drop(columns=['filename'])\n",
    "strip_spare_gun_cc_all['Scenario'] = \"Spare substitution\"\n",
    "strip_spare_gun_cc_all['Status'] = \"All\"\n",
    "strip_spare_gun_cc_legal = stat_spare_gun_cc_legal.drop(columns=['filename'])\n",
    "strip_spare_gun_cc_legal['Scenario'] = \"Spare substitution\"\n",
    "strip_spare_gun_cc_legal['Status'] = \"Legal\"\n",
    "comb_data_cc = pd.concat([strip_one_gun_cc_all, strip_one_gun_cc_legal, strip_two_gun_cc_all, strip_two_gun_cc_legal, strip_spare_gun_cc_all, strip_spare_gun_cc_legal], ignore_index=True)\n",
    "print(comb_data_cc.head())\n",
    "print(comb_data_cc.tail())"
   ]
  },
  {
   "cell_type": "markdown",
   "metadata": {},
   "source": [
    "Just checking the size of the datasets (cc and bb datasets should have same length since both have same number of combinations)"
   ]
  },
  {
   "cell_type": "code",
   "execution_count": null,
   "metadata": {
    "scrolled": true
   },
   "outputs": [],
   "source": [
    "print(\"all datasets:\")\n",
    "print(len(strip_one_gun_bb_all), len(strip_two_gun_bb_all), len(strip_spare_gun_bb_all))\n",
    "print(len(strip_one_gun_cc_all), len(strip_two_gun_cc_all), len(strip_spare_gun_cc_all))\n",
    "print(\"legal dataset:\")\n",
    "print(len(strip_one_gun_bb_legal), len(strip_two_gun_bb_legal), len(strip_spare_gun_bb_legal))\n",
    "print(len(strip_one_gun_cc_legal), len(strip_two_gun_cc_legal), len(strip_spare_gun_cc_legal))"
   ]
  },
  {
   "cell_type": "code",
   "execution_count": null,
   "metadata": {},
   "outputs": [],
   "source": []
  },
  {
   "cell_type": "markdown",
   "metadata": {},
   "source": [
    "Combining data using a join (left join, adding a suffix of \"-cc\" to identical column names, then dropping some redundant columns)"
   ]
  },
  {
   "cell_type": "code",
   "execution_count": null,
   "metadata": {
    "scrolled": true
   },
   "outputs": [],
   "source": [
    "comb_data = comb_data_bb.join(comb_data_cc, rsuffix=\"-cc\").drop(columns=['Scenario-cc', 'Status-cc', 'Depth-cc', 'Subsep-cc', 'Temperature-cc', 'droparray1-cc', 'droparray2-cc', 'dropgun1-cc', 'dropgun2-cc', 'gunvolume1-cc', 'gunvolume2-cc', 'dropgun1_str-cc', 'dropgun2_str-cc'])\n",
    "                                                                       \n",
    "                                                                         "
   ]
  },
  {
   "cell_type": "code",
   "execution_count": null,
   "metadata": {
    "scrolled": true
   },
   "outputs": [],
   "source": [
    "print(comb_data.columns)"
   ]
  },
  {
   "cell_type": "code",
   "execution_count": null,
   "metadata": {
    "scrolled": true
   },
   "outputs": [],
   "source": [
    "#comb_data['drop_arr_gun_1'] = str(comb_data['droparray1']['dropgun1'])\n",
    "#comb_data['drop_arr_gun_1'] = comb_data.droparray1.astype(str).str.cat(comb_data.dropgun1.astype(str), sep='_')\n",
    "#comb_data['drop_arr_gun_2'] = comb_data.droparray2.astype(str).str.cat(comb_data.dropgun2.astype(str), sep='_')\n",
    "comb_data['drop_arr_gun_1'] = comb_data.droparray1.astype(str).str.cat(comb_data.dropgun1_str, sep='_')\n",
    "comb_data['drop_arr_gun_2'] = comb_data.droparray2.astype(str).str.cat(comb_data.dropgun2_str, sep='_')"
   ]
  },
  {
   "cell_type": "markdown",
   "metadata": {},
   "source": [
    "Inspecting some data. Note that the columns AvgdB and MaxdB contain data from the broadband modeling, whereas AvgdB-cc and MaxdB-cc contains the conventional spec values."
   ]
  },
  {
   "cell_type": "code",
   "execution_count": null,
   "metadata": {
    "scrolled": true
   },
   "outputs": [],
   "source": [
    "#print(len(comb_data))\n",
    "#print(comb_data.tail())\n",
    "print(comb_data['drop_arr_gun_1'].tail())"
   ]
  },
  {
   "cell_type": "markdown",
   "metadata": {},
   "source": [
    "Split up the full dataframe in two separate dateaframes: one for legal combinations, one for all combinations.\n",
    "The comb_data dataframe contain both \"all\" and \"legal\" combinations. Convenient when plotting with \"hue\"\n",
    "The comb_data_legal contain only status = \"legal\"\n",
    "The comb_data_all contain only status \"All\""
   ]
  },
  {
   "cell_type": "code",
   "execution_count": null,
   "metadata": {},
   "outputs": [],
   "source": [
    "comb_data_legal = comb_data.loc[comb_data['Status'] == \"Legal\"]\n",
    "comb_data_all = comb_data.loc[comb_data['Status'] == \"All\"]"
   ]
  },
  {
   "cell_type": "code",
   "execution_count": null,
   "metadata": {},
   "outputs": [],
   "source": [
    "print(len(comb_data))\n",
    "print(len(comb_data_all))\n",
    "print(len(comb_data_legal))"
   ]
  },
  {
   "cell_type": "markdown",
   "metadata": {},
   "source": [
    "## Box Plot\n",
    "The box plot (also known as a box-and-whisker plot) can tell us about how our dataset is distributed. It shows us the range of our dataset, gives us an idea about where a significant portion of our data lies, and whether or not any outliers are present.\n",
    "\n",
    "How to interpret a box plot:\n",
    "\n",
    "-The box represents the interquartile range (The difference between the upper and lower quartiles (Q3–Q1) of a data set. This range is used as a measure of data spread: spanning 50% of a data set and eliminating the influence of outliers (the highest and lowest quarters of a data set are removed).) \n",
    "\n",
    "-The line in the middle of the box is the median\n",
    "\n",
    "-The end lines are the first and third quartiles (In order to determine the interquartile range, a data set is divided into four equal parts. Each separating value is called a quartile (the first, the second, etc.). The second quartile is the median)\n",
    "\n",
    "-The diamonds show outliers\n"
   ]
  },
  {
   "cell_type": "code",
   "execution_count": null,
   "metadata": {
    "scrolled": false
   },
   "outputs": [],
   "source": [
    "sns.set_style(\"darkgrid\")\n",
    "sns.set_palette(\"pastel\")\n",
    "sns.set_context(\"paper\")\n",
    "sns.set_palette(\"Paired\")\n",
    "plt.figure(figsize=(12,8))\n",
    "plt.axhline(20, color='red')\n",
    "sns.boxplot(data=comb_data, x='Scenario', y='MaxPhase', hue='Status');"
   ]
  },
  {
   "cell_type": "markdown",
   "metadata": {},
   "source": [
    "For reference the 20 degree maxphase limit is plotted as a red line.\n",
    "Observations:\n",
    "\n",
    "One gun dropout (which is far more likely than two gun dropouts): All legal (master matrix filtered) or 100% of combinations are within the 20 phase spec\n",
    "\n",
    "Two gun dropouts: More than 75% of legal dropouts are within spec\n",
    "\n",
    "Spare gun dropouts: More than 75% of legal dropouts are within spec"
   ]
  },
  {
   "cell_type": "code",
   "execution_count": null,
   "metadata": {},
   "outputs": [],
   "source": [
    "plt.figure(figsize=(12,8))\n",
    "plt.axhline(3, color='red')\n",
    "sns.boxplot(data=comb_data, x='Scenario', y='MaxdB', hue='Status');"
   ]
  },
  {
   "cell_type": "markdown",
   "metadata": {},
   "source": [
    "## Violin Plots\n",
    "Violin plots provide more information than box plots because instead of mapping each individual data point, we get an estimation of the dataset from the KDE (Kernel Density Estimation).\n",
    "\n",
    "There are two KDE plots that are symmetrical along the center line.\n",
    "A white dot represents the median.\n",
    "The thick black line in the center of each violin represents the interquartile range.\n",
    "The lines that extend from the center are the confidence intervals - just on the box plots, a violin plot also displays the 95% confidence interval."
   ]
  },
  {
   "cell_type": "code",
   "execution_count": null,
   "metadata": {
    "scrolled": false
   },
   "outputs": [],
   "source": [
    "plt.figure(figsize=(12,8))\n",
    "plt.axhline(20, color='red')\n",
    "sns.violinplot(data=comb_data, x='Scenario', y='MaxPhase', hue='Status');"
   ]
  },
  {
   "cell_type": "code",
   "execution_count": null,
   "metadata": {},
   "outputs": [],
   "source": [
    "plt.figure(figsize=(12,8))\n",
    "plt.axhline(3, color='red')\n",
    "sns.violinplot(data=comb_data, x='Scenario', y='MaxdB', hue='Status');"
   ]
  },
  {
   "cell_type": "code",
   "execution_count": null,
   "metadata": {},
   "outputs": [],
   "source": [
    "plt.figure(figsize=(12,8))\n",
    "plt.axhline(3, color='red')\n",
    "sns.violinplot(data=comb_data, x='Scenario', y='MaxdB', hue='Status');"
   ]
  },
  {
   "cell_type": "markdown",
   "metadata": {},
   "source": [
    "### Checking correlation between some statistical values\n",
    "To answer questions like: If x-corr is bad, is always MaxPhase equally bad?\n",
    "Does traditional broadband specs capture bad combinations also according to other specs?"
   ]
  },
  {
   "cell_type": "code",
   "execution_count": null,
   "metadata": {},
   "outputs": [],
   "source": [
    "plt.figure(figsize=(12,8))\n",
    "plt.axhline(0.998, color='red')\n",
    "plt.axvline(20, color='red')\n",
    "sns.regplot(x=comb_data_all[\"MaxPhase\"], y=comb_data_all[\"x-corr\"], fit_reg=False)\n",
    "sns.regplot(x=comb_data_legal[\"MaxPhase\"], y=comb_data_legal[\"x-corr\"], fit_reg=False);"
   ]
  },
  {
   "cell_type": "markdown",
   "metadata": {},
   "source": [
    "Comment to above figure:\n",
    "The red spec lines form a 4-field matrix.\n",
    "\n",
    "Many combinations are bad using both specs (lower right field).\n",
    "\n",
    "But many combinations that fullfill the x-corr spec, fail the MaxPhase spec (upper right field), also quite significantly (>30 degrees).\n",
    "\n",
    "Also many combinations that meet the MaxPhase spec fails the x-corr spec (lower left field).\n",
    "\n",
    "Note that dark dots are still legal combinations according to the MasterMatrix. Light dots are all combinations."
   ]
  },
  {
   "cell_type": "code",
   "execution_count": null,
   "metadata": {},
   "outputs": [],
   "source": [
    "plt.figure(figsize=(12,8))\n",
    "plt.axhline(0.998, color='red')\n",
    "plt.axvline(3, color='red')\n",
    "sns.regplot(x=comb_data_all[\"MaxdB\"], y=comb_data_all[\"x-corr\"], fit_reg=False)\n",
    "sns.regplot(x=comb_data_legal[\"MaxdB\"], y=comb_data_legal[\"x-corr\"], fit_reg=False);"
   ]
  },
  {
   "cell_type": "code",
   "execution_count": null,
   "metadata": {
    "scrolled": false
   },
   "outputs": [],
   "source": [
    "plt.figure(figsize=(12,8))\n",
    "plt.axhline(20, color='red')\n",
    "plt.axvline(3, color='red')\n",
    "sns.regplot(x=comb_data_all[\"MaxdB\"], y=comb_data_all[\"MaxPhase\"], fit_reg=False)\n",
    "sns.regplot(x=comb_data_legal[\"MaxdB\"], y=comb_data_legal[\"MaxPhase\"], fit_reg=False);"
   ]
  },
  {
   "cell_type": "code",
   "execution_count": null,
   "metadata": {
    "scrolled": false
   },
   "outputs": [],
   "source": [
    "plt.figure(figsize=(12,8))\n",
    "plt.axhline(3, color='red')\n",
    "plt.axvline(3, color='red')\n",
    "sns.regplot(x=comb_data_all[\"MaxdB\"], y=abs(comb_data_all[\"MaxdB-cc\"]), fit_reg=False)\n",
    "sns.regplot(x=comb_data_legal[\"MaxdB\"], y=abs(comb_data_legal[\"MaxdB-cc\"]), fit_reg=False);"
   ]
  },
  {
   "cell_type": "markdown",
   "metadata": {},
   "source": [
    "Note: abs(MaxdB-cc) correlates with MaxdB (check why this is different between bb and conventional stats)"
   ]
  },
  {
   "cell_type": "code",
   "execution_count": null,
   "metadata": {},
   "outputs": [],
   "source": [
    "plt.figure(figsize=(12,8))\n",
    "plt.axhline(1.2, color='red')\n",
    "plt.axvline(0.85, color='red')\n",
    "sns.regplot(x=comb_data_all[\"AvgdB\"], y=comb_data_all[\"AvgdB-cc\"], fit_reg=False)\n",
    "sns.regplot(x=comb_data_legal[\"AvgdB\"], y=comb_data_legal[\"AvgdB-cc\"], fit_reg=False);"
   ]
  },
  {
   "cell_type": "markdown",
   "metadata": {},
   "source": [
    "## What about traditional sets of specs?\n",
    "In previous section, we looked at the dependencies between single specs.\n",
    "So what about traditional sets of specs?\n",
    "\n",
    "Broadband MC specs (5-200Hz, refl coeff = 0):\n",
    "\n",
    "<li>AvgdB: 0.85</li>\n",
    "<li>MaxdB: 3.0</li>\n",
    "<li>MaxPhase: 20</li>\n",
    "\n",
    "Conventional (old MC) specs (10-70Hz, refl coeff = -1)\n",
    "\n",
    "<li>x-corr: 0.998</li>\n",
    "<li>AvgdB: 1.2</li>\n",
    "<li>MaxdB: 3.0</li>\n",
    "\n",
    "Let us apply this rule as filters to the \"All\" datasets"
   ]
  },
  {
   "cell_type": "code",
   "execution_count": null,
   "metadata": {
    "scrolled": false
   },
   "outputs": [],
   "source": [
    "comb_data_bb_legal = comb_data[(comb_data['AvgdB'] < 0.85) & (comb_data['MaxdB'] < 3) & (comb_data['MaxPhase'] < 20)]\n",
    "\n",
    "\n"
   ]
  },
  {
   "cell_type": "code",
   "execution_count": null,
   "metadata": {},
   "outputs": [],
   "source": [
    "print(len(comb_data))\n",
    "print(len(comb_data_bb_legal))"
   ]
  },
  {
   "cell_type": "code",
   "execution_count": null,
   "metadata": {},
   "outputs": [],
   "source": [
    "plt.figure(figsize=(12,8))\n",
    "plt.axhline(20, color='red')\n",
    "plt.axvline(3, color='red')\n",
    "sns.regplot(x=comb_data_all[\"MaxdB\"], y=comb_data_all[\"MaxPhase\"], fit_reg=False)\n",
    "sns.regplot(x=comb_data_bb_legal[\"MaxdB\"], y=comb_data_bb_legal[\"MaxPhase\"], fit_reg=False);"
   ]
  },
  {
   "cell_type": "code",
   "execution_count": null,
   "metadata": {},
   "outputs": [],
   "source": [
    "comb_data_cc_legal = comb_data[(comb_data['AvgdB-cc'] < 1.2) & (comb_data['MaxdB-cc'] < 3) & (comb_data['x-corr'] > 0.998)]"
   ]
  },
  {
   "cell_type": "code",
   "execution_count": null,
   "metadata": {},
   "outputs": [],
   "source": [
    "print(len(comb_data))\n",
    "print(len(comb_data_cc_legal))"
   ]
  },
  {
   "cell_type": "code",
   "execution_count": null,
   "metadata": {},
   "outputs": [],
   "source": [
    "plt.figure(figsize=(12,8))\n",
    "plt.axhline(20, color='red')\n",
    "plt.axvline(3, color='red')\n",
    "sns.regplot(x=comb_data_all[\"MaxdB\"], y=comb_data_all[\"MaxPhase\"], fit_reg=False)\n",
    "sns.regplot(x=comb_data_cc_legal[\"MaxdB\"], y=comb_data_cc_legal[\"MaxPhase\"], fit_reg=False);"
   ]
  },
  {
   "cell_type": "code",
   "execution_count": null,
   "metadata": {},
   "outputs": [],
   "source": [
    "plt.figure(figsize=(12,8))\n",
    "plt.axhline(0.998, color='red')\n",
    "plt.axvline(20, color='red')\n",
    "sns.regplot(x=comb_data_all[\"MaxPhase\"], y=comb_data_all[\"x-corr\"], fit_reg=False)\n",
    "sns.regplot(x=comb_data_bb_legal[\"MaxPhase\"], y=comb_data_bb_legal[\"x-corr\"], fit_reg=False);"
   ]
  },
  {
   "cell_type": "code",
   "execution_count": null,
   "metadata": {},
   "outputs": [],
   "source": [
    "plt.figure(figsize=(12,8))\n",
    "plt.axhline(0.998, color='red')\n",
    "plt.axvline(20, color='red')\n",
    "sns.regplot(x=comb_data_all[\"MaxPhase\"], y=comb_data_all[\"x-corr\"], fit_reg=False)\n",
    "sns.regplot(x=comb_data_cc_legal[\"MaxPhase\"], y=comb_data_cc_legal[\"x-corr\"], fit_reg=False);"
   ]
  },
  {
   "cell_type": "markdown",
   "metadata": {},
   "source": [
    "### Checking dependiencies with temperature and depth"
   ]
  },
  {
   "cell_type": "code",
   "execution_count": null,
   "metadata": {},
   "outputs": [],
   "source": [
    "plt.figure(figsize=(12,8))\n",
    "plt.axhline(0.998, color='red')\n",
    "sns.boxplot(data=comb_data, x='Depth', y='x-corr', hue='Status');"
   ]
  },
  {
   "cell_type": "code",
   "execution_count": null,
   "metadata": {
    "scrolled": false
   },
   "outputs": [],
   "source": [
    "plt.figure(figsize=(12,8))\n",
    "plt.axhline(0.998, color='red')\n",
    "sns.stripplot(x=comb_data[\"Depth\"], y=comb_data[\"x-corr\"], hue=comb_data['Status']);"
   ]
  },
  {
   "cell_type": "markdown",
   "metadata": {},
   "source": [
    "Not that this plot could be misleading wrt distribution (many dots on top of eachother), box plot shown previously mitigates this."
   ]
  },
  {
   "cell_type": "code",
   "execution_count": null,
   "metadata": {},
   "outputs": [],
   "source": [
    "plt.figure(figsize=(12,8))\n",
    "plt.axhline(0.998, color='red')\n",
    "sns.violinplot(data=comb_data, x='Depth', y='x-corr', hue='Status');"
   ]
  },
  {
   "cell_type": "code",
   "execution_count": null,
   "metadata": {},
   "outputs": [],
   "source": [
    "plt.figure(figsize=(12,8))\n",
    "plt.axhline(0.998, color='red')\n",
    "sns.boxplot(data=comb_data, x='Temperature', y='x-corr', hue='Status');"
   ]
  },
  {
   "cell_type": "code",
   "execution_count": null,
   "metadata": {},
   "outputs": [],
   "source": [
    "plt.figure(figsize=(12,8))\n",
    "plt.axhline(0.998, color='red')\n",
    "sns.stripplot(x=comb_data[\"Temperature\"], y=comb_data[\"x-corr\"], hue=comb_data['Status']);"
   ]
  },
  {
   "cell_type": "code",
   "execution_count": null,
   "metadata": {},
   "outputs": [],
   "source": [
    "plt.figure(figsize=(12,8))\n",
    "plt.axhline(20, color='red')\n",
    "sns.violinplot(data=comb_data, x='Temperature', y='MaxPhase', hue='Status');"
   ]
  },
  {
   "cell_type": "code",
   "execution_count": null,
   "metadata": {},
   "outputs": [],
   "source": [
    "plt.figure(figsize=(12,8))\n",
    "plt.axhline(20, color='red')\n",
    "sns.stripplot(data=comb_data, x='Depth', y='MaxPhase', hue='Status');"
   ]
  },
  {
   "cell_type": "code",
   "execution_count": null,
   "metadata": {},
   "outputs": [],
   "source": [
    "plt.figure(figsize=(12,8))\n",
    "plt.axhline(20, color='red')\n",
    "sns.boxplot(data=comb_data, x='Depth', y='MaxPhase', hue='Status');"
   ]
  },
  {
   "cell_type": "code",
   "execution_count": null,
   "metadata": {
    "scrolled": false
   },
   "outputs": [],
   "source": [
    "plt.figure(figsize=(12,8))\n",
    "plt.axhline(20, color='red')\n",
    "sns.violinplot(data=comb_data, x='Depth', y='MaxPhase', hue='Status');"
   ]
  },
  {
   "cell_type": "code",
   "execution_count": null,
   "metadata": {},
   "outputs": [],
   "source": [
    "plt.figure(figsize=(12,8))\n",
    "plt.axhline(20, color='red')\n",
    "sns.violinplot(data=comb_data, x='Subsep', y='MaxPhase', hue='Status');"
   ]
  },
  {
   "cell_type": "code",
   "execution_count": null,
   "metadata": {},
   "outputs": [],
   "source": [
    "plt.figure(figsize=(12,8))\n",
    "plt.axhline(20, color='red')\n",
    "sns.boxplot(data=comb_data, x='Depth', y='MaxPhase', hue='Status');"
   ]
  },
  {
   "cell_type": "code",
   "execution_count": null,
   "metadata": {
    "scrolled": true
   },
   "outputs": [],
   "source": [
    "print(comb_data.columns)"
   ]
  },
  {
   "cell_type": "code",
   "execution_count": null,
   "metadata": {},
   "outputs": [],
   "source": [
    "plt.figure(figsize=(12,8))\n",
    "plt.axhline(20, color='red')\n",
    "sns.violinplot(data=comb_data[comb_data['Scenario'] == 'Spare substitution'], x='dropgun2', y='MaxPhase', hue='Status');"
   ]
  },
  {
   "cell_type": "code",
   "execution_count": null,
   "metadata": {
    "scrolled": false
   },
   "outputs": [],
   "source": [
    "plt.figure(figsize=(12,8))\n",
    "plt.axhline(20, color='red')\n",
    "sns.boxplot(data=comb_data[comb_data['Scenario'] == 'Spare substitution'], x='drop_arr_gun_1', y='MaxPhase', hue='drop_arr_gun_2');"
   ]
  },
  {
   "cell_type": "code",
   "execution_count": null,
   "metadata": {},
   "outputs": [],
   "source": [
    "plt.figure(figsize=(12,8))\n",
    "plt.axhline(0.998, color='red')\n",
    "sns.boxplot(data=comb_data[comb_data['Scenario'] == 'Spare substitution'], x='gunvolume1', y='x-corr');"
   ]
  },
  {
   "cell_type": "code",
   "execution_count": null,
   "metadata": {},
   "outputs": [],
   "source": [
    "plt.figure(figsize=(12,8))\n",
    "plt.axhline(20, color='red')\n",
    "sns.boxplot(data=comb_data[comb_data['Scenario'] == 'Two gun dropout'], x='gunvolume1', y='MaxPhase', hue='Status');"
   ]
  },
  {
   "cell_type": "code",
   "execution_count": null,
   "metadata": {},
   "outputs": [],
   "source": []
  }
 ],
 "metadata": {
  "kernelspec": {
   "display_name": "Python 3",
   "language": "python",
   "name": "python3"
  },
  "language_info": {
   "codemirror_mode": {
    "name": "ipython",
    "version": 3
   },
   "file_extension": ".py",
   "mimetype": "text/x-python",
   "name": "python",
   "nbconvert_exporter": "python",
   "pygments_lexer": "ipython3",
   "version": "3.6.5"
  }
 },
 "nbformat": 4,
 "nbformat_minor": 2
}
